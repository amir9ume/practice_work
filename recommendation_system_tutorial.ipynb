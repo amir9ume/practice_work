{
  "nbformat": 4,
  "nbformat_minor": 0,
  "metadata": {
    "colab": {
      "name": "recommendation-system-tutorial.ipynb",
      "provenance": [],
      "collapsed_sections": [],
      "toc_visible": true,
      "include_colab_link": true
    },
    "kernelspec": {
      "name": "python3",
      "display_name": "Python 3"
    }
  },
  "cells": [
    {
      "cell_type": "markdown",
      "metadata": {
        "id": "view-in-github",
        "colab_type": "text"
      },
      "source": [
        "<a href=\"https://colab.research.google.com/github/amir9ume/practice_work/blob/master/recommendation_system_tutorial.ipynb\" target=\"_parent\"><img src=\"https://colab.research.google.com/assets/colab-badge.svg\" alt=\"Open In Colab\"/></a>"
      ]
    },
    {
      "cell_type": "markdown",
      "metadata": {
        "id": "4kFXa2AY2j8g"
      },
      "source": [
        "'''\n",
        "Code taken from this wonderful tutorial https://medium.com/towards-artificial-intelligence/recommendation-system-in-depth-tutorial-with-python-for-netflix-using-collaborative-filtering-533ff8a0e444\n",
        "\n",
        "**Author(s): Saniya Parveez, Roberto Iriondo**\n",
        "'''\n",
        "\n",
        "# Netflix Recommendation System\n",
        "\n",
        "URL: https://towardsai.net/recommendation-system-tutorial\n",
        "\n",
        "**Data from Netflix**\n",
        "\n",
        "*   combine_data_2.txt - This text file contains movie_id, customer_id, rating, date\n",
        "*   List item - This CSV file contains movie_id and movie_title\n",
        "\n"
      ]
    },
    {
      "cell_type": "code",
      "metadata": {
        "id": "NBn_evuBCDAM",
        "outputId": "3cfe546d-2d6a-4dcd-ec8a-c368c566a52f",
        "colab": {
          "base_uri": "https://localhost:8080/",
          "height": 609
        }
      },
      "source": [
        "# Download datasets\n",
        "!wget https://datasets.towardsai.net/combined_data_4.txt\n",
        "!wget https://raw.githubusercontent.com/towardsai/tutorials/master/recommendation_system_tutorial/movie_titles.csv\n",
        "!wget https://raw.githubusercontent.com/towardsai/tutorials/master/recommendation_system_tutorial/new_features.csv"
      ],
      "execution_count": null,
      "outputs": [
        {
          "output_type": "stream",
          "text": [
            "--2020-10-08 15:42:15--  http://datasets.towardsai.net/combined_data_4.txt\n",
            "Resolving datasets.towardsai.net (datasets.towardsai.net)... 198.187.29.184\n",
            "Connecting to datasets.towardsai.net (datasets.towardsai.net)|198.187.29.184|:80... connected.\n",
            "HTTP request sent, awaiting response... 200 OK\n",
            "Length: 552537802 (527M) [text/plain]\n",
            "Saving to: ‘combined_data_4.txt’\n",
            "\n",
            "combined_data_4.txt 100%[===================>] 526.94M  18.4MB/s    in 35s     \n",
            "\n",
            "2020-10-08 15:42:50 (15.2 MB/s) - ‘combined_data_4.txt’ saved [552537802/552537802]\n",
            "\n",
            "--2020-10-08 15:42:50--  https://raw.githubusercontent.com/towardsai/tutorials/master/recommendation_system_tutorial/movie_titles.csv\n",
            "Resolving raw.githubusercontent.com (raw.githubusercontent.com)... 151.101.0.133, 151.101.64.133, 151.101.128.133, ...\n",
            "Connecting to raw.githubusercontent.com (raw.githubusercontent.com)|151.101.0.133|:443... connected.\n",
            "HTTP request sent, awaiting response... 200 OK\n",
            "Length: 577547 (564K) [text/plain]\n",
            "Saving to: ‘movie_titles.csv.28’\n",
            "\n",
            "movie_titles.csv.28 100%[===================>] 564.01K  --.-KB/s    in 0.04s   \n",
            "\n",
            "2020-10-08 15:42:51 (14.0 MB/s) - ‘movie_titles.csv.28’ saved [577547/577547]\n",
            "\n",
            "--2020-10-08 15:42:51--  https://raw.githubusercontent.com/towardsai/tutorials/master/recommendation_system_tutorial/new_features.csv\n",
            "Resolving raw.githubusercontent.com (raw.githubusercontent.com)... 151.101.0.133, 151.101.64.133, 151.101.128.133, ...\n",
            "Connecting to raw.githubusercontent.com (raw.githubusercontent.com)|151.101.0.133|:443... connected.\n",
            "HTTP request sent, awaiting response... 200 OK\n",
            "Length: 6328 (6.2K) [text/plain]\n",
            "Saving to: ‘new_features.csv.28’\n",
            "\n",
            "new_features.csv.28 100%[===================>]   6.18K  --.-KB/s    in 0s      \n",
            "\n",
            "2020-10-08 15:42:51 (75.1 MB/s) - ‘new_features.csv.28’ saved [6328/6328]\n",
            "\n"
          ],
          "name": "stdout"
        }
      ]
    },
    {
      "cell_type": "code",
      "metadata": {
        "id": "DN6CCNOHEtQT",
        "outputId": "1325c726-56b5-4775-93ba-fb66b11d3008",
        "colab": {
          "base_uri": "https://localhost:8080/",
          "height": 280
        }
      },
      "source": [
        "!pip install scikit-surprise"
      ],
      "execution_count": null,
      "outputs": [
        {
          "output_type": "stream",
          "text": [
            "Collecting scikit-surprise\n",
            "\u001b[?25l  Downloading https://files.pythonhosted.org/packages/97/37/5d334adaf5ddd65da99fc65f6507e0e4599d092ba048f4302fe8775619e8/scikit-surprise-1.1.1.tar.gz (11.8MB)\n",
            "\u001b[K     |████████████████████████████████| 11.8MB 7.8MB/s \n",
            "\u001b[?25hRequirement already satisfied: joblib>=0.11 in /usr/local/lib/python3.6/dist-packages (from scikit-surprise) (0.16.0)\n",
            "Requirement already satisfied: numpy>=1.11.2 in /usr/local/lib/python3.6/dist-packages (from scikit-surprise) (1.18.5)\n",
            "Requirement already satisfied: scipy>=1.0.0 in /usr/local/lib/python3.6/dist-packages (from scikit-surprise) (1.4.1)\n",
            "Requirement already satisfied: six>=1.10.0 in /usr/local/lib/python3.6/dist-packages (from scikit-surprise) (1.15.0)\n",
            "Building wheels for collected packages: scikit-surprise\n",
            "  Building wheel for scikit-surprise (setup.py) ... \u001b[?25l\u001b[?25hdone\n",
            "  Created wheel for scikit-surprise: filename=scikit_surprise-1.1.1-cp36-cp36m-linux_x86_64.whl size=1670912 sha256=871e49f305bc110b12aaea3a98e069d8443198405528946490bc9b708d465ea9\n",
            "  Stored in directory: /root/.cache/pip/wheels/78/9c/3d/41b419c9d2aff5b6e2b4c0fc8d25c538202834058f9ed110d0\n",
            "Successfully built scikit-surprise\n",
            "Installing collected packages: scikit-surprise\n",
            "Successfully installed scikit-surprise-1.1.1\n"
          ],
          "name": "stdout"
        }
      ]
    },
    {
      "cell_type": "markdown",
      "metadata": {
        "id": "Fht4aygj3dUh"
      },
      "source": [
        "Mount the data into google drive for files' persistence"
      ]
    },
    {
      "cell_type": "code",
      "metadata": {
        "id": "pxMeDezGaOyJ",
        "outputId": "63d2e279-4a6b-4c1f-a9be-cc2525f25bd2",
        "colab": {
          "base_uri": "https://localhost:8080/",
          "height": 35
        }
      },
      "source": [
        "from google.colab import drive\n",
        "drive.mount('/content/gdrive')"
      ],
      "execution_count": null,
      "outputs": [
        {
          "output_type": "stream",
          "text": [
            "Mounted at /content/gdrive\n"
          ],
          "name": "stdout"
        }
      ]
    },
    {
      "cell_type": "markdown",
      "metadata": {
        "id": "cK6_Dbph3khQ"
      },
      "source": [
        "**Import Important Packages**"
      ]
    },
    {
      "cell_type": "code",
      "metadata": {
        "id": "9ao-oIzPF6xm"
      },
      "source": [
        "from datetime import datetime\n",
        "import pandas as pd\n",
        "import numpy as np\n",
        "import seaborn as sns\n",
        "import os\n",
        "import random\n",
        "import matplotlib\n",
        "import matplotlib.pyplot as plt\n",
        "from scipy import sparse\n",
        "from sklearn.metrics.pairwise import cosine_similarity\n",
        "from sklearn.metrics import mean_squared_error\n",
        "\n",
        "import xgboost as xgb\n",
        "from surprise import Reader, Dataset\n",
        "from surprise import BaselineOnly\n",
        "from surprise import KNNBaseline\n",
        "from surprise import SVD\n",
        "from surprise import SVDpp\n",
        "from surprise.model_selection import GridSearchCV"
      ],
      "execution_count": null,
      "outputs": []
    },
    {
      "cell_type": "markdown",
      "metadata": {
        "id": "VRk7BoZ_3uuM"
      },
      "source": [
        "# Load Data\n",
        "\n",
        "*   combine_data_4.txt :- Read from this file. This is a comma separated file. It includes movie_id, customer_id, rating and date\n",
        "*   netflix_rating.csv :- This is a csv file generated by reading from the combine_data_4.txt file\n",
        "\n",
        "\n",
        "\n"
      ]
    },
    {
      "cell_type": "code",
      "metadata": {
        "id": "HDbRAN7eF93W"
      },
      "source": [
        "def load_data():\n",
        "    netflix_csv_file = open(\"netflix_rating.csv\", mode = \"w\")\n",
        "    rating_files = ['combined_data_4.txt'] \n",
        "    for file in rating_files:\n",
        "        with open(file) as f:\n",
        "            for line in f:\n",
        "                line = line.strip()\n",
        "                if line.endswith(\":\"):\n",
        "                    movie_id = line.replace(\":\", \"\")\n",
        "                else:\n",
        "                    row_data = []\n",
        "                    row_data = [item for item in line.split(\",\")]\n",
        "                    row_data.insert(0, movie_id)\n",
        "                    netflix_csv_file.write(\",\".join(row_data))  \n",
        "                    netflix_csv_file.write('\\n')\n",
        "                    \n",
        "    netflix_csv_file.close()\n",
        "    df = pd.read_csv('netflix_rating.csv', sep=\",\", names = [\"movie_id\",\"customer_id\", \"rating\", \"date\"])\n",
        "    return df"
      ],
      "execution_count": null,
      "outputs": []
    },
    {
      "cell_type": "markdown",
      "metadata": {
        "id": "W_uC0uc7DoQU"
      },
      "source": [
        "**Display Netflix Rating Data**"
      ]
    },
    {
      "cell_type": "code",
      "metadata": {
        "id": "27luTTUCRnfs",
        "outputId": "f290acf7-ee7f-4456-aef4-d691dea6cdca",
        "colab": {
          "base_uri": "https://localhost:8080/",
          "height": 202
        }
      },
      "source": [
        "netflix_rating_df = load_data()\n",
        "netflix_rating_df\n",
        "netflix_rating_df.head()"
      ],
      "execution_count": null,
      "outputs": [
        {
          "output_type": "execute_result",
          "data": {
            "text/html": [
              "<div>\n",
              "<style scoped>\n",
              "    .dataframe tbody tr th:only-of-type {\n",
              "        vertical-align: middle;\n",
              "    }\n",
              "\n",
              "    .dataframe tbody tr th {\n",
              "        vertical-align: top;\n",
              "    }\n",
              "\n",
              "    .dataframe thead th {\n",
              "        text-align: right;\n",
              "    }\n",
              "</style>\n",
              "<table border=\"1\" class=\"dataframe\">\n",
              "  <thead>\n",
              "    <tr style=\"text-align: right;\">\n",
              "      <th></th>\n",
              "      <th>movie_id</th>\n",
              "      <th>customer_id</th>\n",
              "      <th>rating</th>\n",
              "      <th>date</th>\n",
              "    </tr>\n",
              "  </thead>\n",
              "  <tbody>\n",
              "    <tr>\n",
              "      <th>0</th>\n",
              "      <td>13368</td>\n",
              "      <td>2385003</td>\n",
              "      <td>4</td>\n",
              "      <td>2004-07-08</td>\n",
              "    </tr>\n",
              "    <tr>\n",
              "      <th>1</th>\n",
              "      <td>13368</td>\n",
              "      <td>659432</td>\n",
              "      <td>3</td>\n",
              "      <td>2005-03-16</td>\n",
              "    </tr>\n",
              "    <tr>\n",
              "      <th>2</th>\n",
              "      <td>13368</td>\n",
              "      <td>751812</td>\n",
              "      <td>2</td>\n",
              "      <td>2002-12-16</td>\n",
              "    </tr>\n",
              "    <tr>\n",
              "      <th>3</th>\n",
              "      <td>13368</td>\n",
              "      <td>2625420</td>\n",
              "      <td>2</td>\n",
              "      <td>2004-05-25</td>\n",
              "    </tr>\n",
              "    <tr>\n",
              "      <th>4</th>\n",
              "      <td>13368</td>\n",
              "      <td>1650301</td>\n",
              "      <td>1</td>\n",
              "      <td>2005-08-30</td>\n",
              "    </tr>\n",
              "  </tbody>\n",
              "</table>\n",
              "</div>"
            ],
            "text/plain": [
              "   movie_id  customer_id  rating        date\n",
              "0     13368      2385003       4  2004-07-08\n",
              "1     13368       659432       3  2005-03-16\n",
              "2     13368       751812       2  2002-12-16\n",
              "3     13368      2625420       2  2004-05-25\n",
              "4     13368      1650301       1  2005-08-30"
            ]
          },
          "metadata": {
            "tags": []
          },
          "execution_count": 35
        }
      ]
    },
    {
      "cell_type": "markdown",
      "metadata": {
        "id": "1oDcsYt6DyOA"
      },
      "source": [
        "**Check for the duplicate records**"
      ]
    },
    {
      "cell_type": "code",
      "metadata": {
        "id": "O23LzECqSAyO",
        "outputId": "e5addd5f-5eee-4df9-d7b4-18bad0144bf7",
        "colab": {
          "base_uri": "https://localhost:8080/",
          "height": 35
        }
      },
      "source": [
        "netflix_rating_df.duplicated([\"movie_id\",\"customer_id\", \"rating\", \"date\"]).sum()"
      ],
      "execution_count": null,
      "outputs": [
        {
          "output_type": "execute_result",
          "data": {
            "text/plain": [
              "0"
            ]
          },
          "metadata": {
            "tags": []
          },
          "execution_count": 36
        }
      ]
    },
    {
      "cell_type": "markdown",
      "metadata": {
        "id": "2ndyAVzTD7wc"
      },
      "source": [
        "# Split Data into Train and Test Data\n",
        "\n",
        "*   train_data = 80%\n",
        "*   test_data = 20%\n"
      ]
    },
    {
      "cell_type": "code",
      "metadata": {
        "id": "OrOLJKSuSLE-"
      },
      "source": [
        "split_value = int(len(netflix_rating_df) * 0.80)\n",
        "train_data = netflix_rating_df[:split_value]\n",
        "test_data = netflix_rating_df[split_value:]"
      ],
      "execution_count": null,
      "outputs": []
    },
    {
      "cell_type": "markdown",
      "metadata": {
        "id": "McPLdR46ERpf"
      },
      "source": [
        "#Analysis of Data\n",
        "\n",
        "Count of Ratings - 1, 2, 3, 4, 5"
      ]
    },
    {
      "cell_type": "code",
      "metadata": {
        "id": "y-QJU0AESPf7",
        "outputId": "032042e7-db9e-4d39-c521-adc07e63e8af",
        "colab": {
          "base_uri": "https://localhost:8080/",
          "height": 532
        }
      },
      "source": [
        "plt.figure(figsize = (12, 8))\n",
        "ax = sns.countplot(x=\"rating\", data=train_data)\n",
        "\n",
        "ax.set_yticklabels([num for num in ax.get_yticks()])\n",
        "\n",
        "plt.tick_params(labelsize = 15)\n",
        "plt.title(\"Count Ratings in train data\", fontsize = 20)\n",
        "plt.xlabel(\"Ratings\", fontsize = 20)\n",
        "plt.ylabel(\"Number of Ratings\", fontsize = 20)\n",
        "plt.show()"
      ],
      "execution_count": null,
      "outputs": [
        {
          "output_type": "display_data",
          "data": {
            "image/png": "[encoded data removed]",
            "text/plain": [
              "<Figure size 864x576 with 1 Axes>"
            ]
          },
          "metadata": {
            "tags": [],
            "needs_background": "light"
          }
        }
      ]
    },
    {
      "cell_type": "markdown",
      "metadata": {
        "id": "nBWlf_V9EfBv"
      },
      "source": [
        "# Create User-Item Sparse Matrix\n",
        "\n",
        "In User-Item sparse matrix, items' values are present in the column and users' values are present in the rows. The rating of the user is present in the cell."
      ]
    },
    {
      "cell_type": "code",
      "metadata": {
        "id": "_DMyK4KmSSTS"
      },
      "source": [
        "def get_user_item_sparse_matrix(df):\n",
        "    sparse_data = sparse.csr_matrix((df.rating, (df.customer_id, df.movie_id)))\n",
        "    return sparse_data"
      ],
      "execution_count": null,
      "outputs": []
    },
    {
      "cell_type": "markdown",
      "metadata": {
        "id": "54DgUZrHE3xn"
      },
      "source": [
        "**Create Sparse Matrix from the Training Dataset**"
      ]
    },
    {
      "cell_type": "code",
      "metadata": {
        "id": "RnmzV2OaSUpp"
      },
      "source": [
        "train_sparse_data = get_user_item_sparse_matrix(train_data)"
      ],
      "execution_count": null,
      "outputs": []
    },
    {
      "cell_type": "markdown",
      "metadata": {
        "id": "_JFyIdV6E_s4"
      },
      "source": [
        "**Create Sparse Matrix from the Test Dataset**"
      ]
    },
    {
      "cell_type": "code",
      "metadata": {
        "id": "4WGZanOgSWZR"
      },
      "source": [
        "test_sparse_data = get_user_item_sparse_matrix(test_data)"
      ],
      "execution_count": null,
      "outputs": []
    },
    {
      "cell_type": "markdown",
      "metadata": {
        "id": "75gGi5wUFGc4"
      },
      "source": [
        "**Find Average Gloabal Rating of Movie**"
      ]
    },
    {
      "cell_type": "code",
      "metadata": {
        "id": "nhiOxKNYSYtp",
        "outputId": "ae30208a-a9d1-4a18-ec42-11506132f951",
        "colab": {
          "base_uri": "https://localhost:8080/",
          "height": 35
        }
      },
      "source": [
        "global_average_rating = train_sparse_data.sum()/train_sparse_data.count_nonzero()\n",
        "print(\"Global Average Rating: {}\".format(global_average_rating))"
      ],
      "execution_count": null,
      "outputs": [
        {
          "output_type": "stream",
          "text": [
            "Global Average Rating: 3.6291294662291467\n"
          ],
          "name": "stdout"
        }
      ]
    },
    {
      "cell_type": "markdown",
      "metadata": {
        "id": "-NTxzsxFFPcl"
      },
      "source": [
        "**A Generic Method to Calculate Average Rating from Sparse Matrix**"
      ]
    },
    {
      "cell_type": "code",
      "metadata": {
        "id": "mimrlGSYSbGR"
      },
      "source": [
        "def get_average_rating(sparse_matrix, is_user):\n",
        "    ax = 1 if is_user else 0\n",
        "    sum_of_ratings = sparse_matrix.sum(axis = ax).A1  \n",
        "    no_of_ratings = (sparse_matrix != 0).sum(axis = ax).A1 \n",
        "    rows, cols = sparse_matrix.shape\n",
        "    average_ratings = {i: sum_of_ratings[i]/no_of_ratings[i] for i in range(rows if is_user else cols) if no_of_ratings[i] != 0}\n",
        "    return average_ratings"
      ],
      "execution_count": null,
      "outputs": []
    },
    {
      "cell_type": "markdown",
      "metadata": {
        "id": "WqPE4zhRFbfU"
      },
      "source": [
        "**Calculate Average User Rating**"
      ]
    },
    {
      "cell_type": "code",
      "metadata": {
        "id": "zfeM7W2sSduc"
      },
      "source": [
        "average_rating_user = get_average_rating(train_sparse_data, True)"
      ],
      "execution_count": null,
      "outputs": []
    },
    {
      "cell_type": "markdown",
      "metadata": {
        "id": "jFHKBmyrFjx-"
      },
      "source": [
        "**Calcualte Average Movie Rating**"
      ]
    },
    {
      "cell_type": "code",
      "metadata": {
        "id": "BQsCkuriSgD8"
      },
      "source": [
        "avg_rating_movie = get_average_rating(train_sparse_data, False)"
      ],
      "execution_count": null,
      "outputs": []
    },
    {
      "cell_type": "markdown",
      "metadata": {
        "id": "Zm0VBk31Fhnd"
      },
      "source": [
        "# Check Cold Start Problem for Users\n",
        "\n",
        "Here, 1% of total users are new and they will have no proper rating available. So, this can bring the issue of the cold start problems."
      ]
    },
    {
      "cell_type": "code",
      "metadata": {
        "id": "au4X5qJ7SinU",
        "outputId": "1c2d483b-bd02-4ff6-c8cd-7ee27904fd75",
        "colab": {
          "base_uri": "https://localhost:8080/",
          "height": 69
        }
      },
      "source": [
        "total_users = len(np.unique(netflix_rating_df[\"customer_id\"]))\n",
        "train_users = len(average_rating_user)\n",
        "uncommonUsers = total_users - train_users\n",
        "                  \n",
        "print(\"Total no. of Users = {}\".format(total_users))\n",
        "print(\"No. of Users in train data= {}\".format(train_users))\n",
        "print(\"No. of Users not present in train data = {}({}%)\".format(uncommonUsers, np.round((uncommonUsers/total_users)*100), 2))"
      ],
      "execution_count": null,
      "outputs": [
        {
          "output_type": "stream",
          "text": [
            "Total no. of Users = 475601\n",
            "No. of Users in train data= 473014\n",
            "No. of Users not present in train data = 2587(1.0%)\n"
          ],
          "name": "stdout"
        }
      ]
    },
    {
      "cell_type": "markdown",
      "metadata": {
        "id": "ke_ulL5PF5ms"
      },
      "source": [
        "# Check Cold Start Problem for the Movies\n",
        "\n",
        "Here, 20% of total movies are new and their rating might not be available in the dataset. So, this can bring the issue of the cold start problems."
      ]
    },
    {
      "cell_type": "code",
      "metadata": {
        "id": "wcrMBwNOSkE8",
        "outputId": "9e199470-241f-4e9d-cfb3-362ff0ab5523",
        "colab": {
          "base_uri": "https://localhost:8080/",
          "height": 69
        }
      },
      "source": [
        "total_movies = len(np.unique(netflix_rating_df[\"movie_id\"]))\n",
        "train_movies = len(avg_rating_movie)\n",
        "uncommonMovies = total_movies - train_movies\n",
        "                  \n",
        "print(\"Total no. of Movies = {}\".format(total_movies))\n",
        "print(\"No. of Movies in train data= {}\".format(train_movies))\n",
        "print(\"No. of Movies not present in train data = {}({}%)\".format(uncommonMovies, np.round((uncommonMovies/total_movies)*100), 2))"
      ],
      "execution_count": null,
      "outputs": [
        {
          "output_type": "stream",
          "text": [
            "Total no. of Movies = 4403\n",
            "No. of Movies in train data= 3515\n",
            "No. of Movies not present in train data = 888(20.0%)\n"
          ],
          "name": "stdout"
        }
      ]
    },
    {
      "cell_type": "markdown",
      "metadata": {
        "id": "s01GoSOAGCZc"
      },
      "source": [
        "# Computation of user similarity to find similarities of top 100 users"
      ]
    },
    {
      "cell_type": "code",
      "metadata": {
        "id": "7fsVMdurSogk"
      },
      "source": [
        "def compute_user_similarity(sparse_matrix, limit=100):\n",
        "    row_index, col_index = sparse_matrix.nonzero()\n",
        "    rows = np.unique(row_index)\n",
        "    similar_arr = np.zeros(61700).reshape(617,100)\n",
        "    \n",
        "    for row in rows[:limit]:\n",
        "        sim = cosine_similarity(sparse_matrix.getrow(row), train_sparse_data).ravel()\n",
        "        similar_indices = sim.argsort()[-limit:]\n",
        "        similar = sim[similar_indices]\n",
        "        similar_arr[row] = similar\n",
        "    \n",
        "    return similar_arr"
      ],
      "execution_count": null,
      "outputs": []
    },
    {
      "cell_type": "code",
      "metadata": {
        "id": "Q4RcXfCGSpoz"
      },
      "source": [
        "similar_user_matrix = compute_user_similarity(train_sparse_data, 100)"
      ],
      "execution_count": null,
      "outputs": []
    },
    {
      "cell_type": "code",
      "metadata": {
        "id": "ZlE7H2d1SuGM",
        "outputId": "d188e71c-0367-46c9-9570-0bfbb59691a2",
        "colab": {
          "base_uri": "https://localhost:8080/",
          "height": 121
        }
      },
      "source": [
        "similar_user_matrix[0]"
      ],
      "execution_count": null,
      "outputs": [
        {
          "output_type": "execute_result",
          "data": {
            "text/plain": [
              "array([0., 0., 0., 0., 0., 0., 0., 0., 0., 0., 0., 0., 0., 0., 0., 0., 0.,\n",
              "       0., 0., 0., 0., 0., 0., 0., 0., 0., 0., 0., 0., 0., 0., 0., 0., 0.,\n",
              "       0., 0., 0., 0., 0., 0., 0., 0., 0., 0., 0., 0., 0., 0., 0., 0., 0.,\n",
              "       0., 0., 0., 0., 0., 0., 0., 0., 0., 0., 0., 0., 0., 0., 0., 0., 0.,\n",
              "       0., 0., 0., 0., 0., 0., 0., 0., 0., 0., 0., 0., 0., 0., 0., 0., 0.,\n",
              "       0., 0., 0., 0., 0., 0., 0., 0., 0., 0., 0., 0., 0., 0., 0.])"
            ]
          },
          "metadata": {
            "tags": []
          },
          "execution_count": 50
        }
      ]
    },
    {
      "cell_type": "markdown",
      "metadata": {
        "id": "qxQUbFEYGSzN"
      },
      "source": [
        "# Load Movie Titles"
      ]
    },
    {
      "cell_type": "code",
      "metadata": {
        "id": "UYUsbiCNSz2w",
        "outputId": "346acfa1-3a09-4b22-ee84-44b66767a1db",
        "colab": {
          "base_uri": "https://localhost:8080/",
          "height": 233
        }
      },
      "source": [
        "movie_titles_df = pd.read_csv(\"movie_titles.csv\",sep = \",\",\n",
        "                              header = None, names=['movie_id', 'year_of_release', 'movie_title'],\n",
        "                              index_col = \"movie_id\", encoding = \"iso8859_2\")\n",
        "movie_titles_df.head()"
      ],
      "execution_count": null,
      "outputs": [
        {
          "output_type": "execute_result",
          "data": {
            "text/html": [
              "<div>\n",
              "<style scoped>\n",
              "    .dataframe tbody tr th:only-of-type {\n",
              "        vertical-align: middle;\n",
              "    }\n",
              "\n",
              "    .dataframe tbody tr th {\n",
              "        vertical-align: top;\n",
              "    }\n",
              "\n",
              "    .dataframe thead th {\n",
              "        text-align: right;\n",
              "    }\n",
              "</style>\n",
              "<table border=\"1\" class=\"dataframe\">\n",
              "  <thead>\n",
              "    <tr style=\"text-align: right;\">\n",
              "      <th></th>\n",
              "      <th>year_of_release</th>\n",
              "      <th>movie_title</th>\n",
              "    </tr>\n",
              "    <tr>\n",
              "      <th>movie_id</th>\n",
              "      <th></th>\n",
              "      <th></th>\n",
              "    </tr>\n",
              "  </thead>\n",
              "  <tbody>\n",
              "    <tr>\n",
              "      <th>1</th>\n",
              "      <td>2003.0</td>\n",
              "      <td>Dinosaur Planet</td>\n",
              "    </tr>\n",
              "    <tr>\n",
              "      <th>2</th>\n",
              "      <td>2004.0</td>\n",
              "      <td>Isle of Man TT 2004 Review</td>\n",
              "    </tr>\n",
              "    <tr>\n",
              "      <th>3</th>\n",
              "      <td>1997.0</td>\n",
              "      <td>Character</td>\n",
              "    </tr>\n",
              "    <tr>\n",
              "      <th>4</th>\n",
              "      <td>1994.0</td>\n",
              "      <td>Paula Abdul's Get Up &amp; Dance</td>\n",
              "    </tr>\n",
              "    <tr>\n",
              "      <th>5</th>\n",
              "      <td>2004.0</td>\n",
              "      <td>The Rise and Fall of ECW</td>\n",
              "    </tr>\n",
              "  </tbody>\n",
              "</table>\n",
              "</div>"
            ],
            "text/plain": [
              "          year_of_release                   movie_title\n",
              "movie_id                                               \n",
              "1                  2003.0               Dinosaur Planet\n",
              "2                  2004.0    Isle of Man TT 2004 Review\n",
              "3                  1997.0                     Character\n",
              "4                  1994.0  Paula Abdul's Get Up & Dance\n",
              "5                  2004.0      The Rise and Fall of ECW"
            ]
          },
          "metadata": {
            "tags": []
          },
          "execution_count": 51
        }
      ]
    },
    {
      "cell_type": "markdown",
      "metadata": {
        "id": "VNOYtMuHGX8n"
      },
      "source": [
        "# Compute Movie Similarity Matrix"
      ]
    },
    {
      "cell_type": "code",
      "metadata": {
        "id": "k9wx2rHPS5RZ"
      },
      "source": [
        "def compute_movie_similarity_count(sparse_matrix, movie_titles_df, movie_id):\n",
        "    similarity = cosine_similarity(sparse_matrix.T, dense_output = False)\n",
        "    no_of_similar_movies = movie_titles_df.loc[movie_id][1], similarity[movie_id].count_nonzero()\n",
        "    return no_of_similar_movies"
      ],
      "execution_count": null,
      "outputs": []
    },
    {
      "cell_type": "code",
      "metadata": {
        "id": "f5R6sk22S7d7",
        "outputId": "2f146a06-955c-4681-e351-e0e9c2087309",
        "colab": {
          "base_uri": "https://localhost:8080/",
          "height": 35
        }
      },
      "source": [
        "similar_movies = compute_movie_similarity_count(train_sparse_data, movie_titles_df, 1775)\n",
        "print(\"Similar Movies = {}\".format(similar_movies))"
      ],
      "execution_count": null,
      "outputs": [
        {
          "output_type": "stream",
          "text": [
            "Similar Movies = ('Dario Argento Collection: Vol. 1: Phenomena', 0)\n"
          ],
          "name": "stdout"
        }
      ]
    },
    {
      "cell_type": "markdown",
      "metadata": {
        "id": "SGk8kxRRGhN5"
      },
      "source": [
        "# Create Sample Sparse Matrix\n",
        "\n",
        "This method will be used to generate Sample Sparse Matrix. New similarity features will be generated from this sample sparse matrix."
      ]
    },
    {
      "cell_type": "code",
      "metadata": {
        "id": "1DycNKoXS9pz"
      },
      "source": [
        "def get_sample_sparse_matrix(sparse_matrix, no_of_users, no_of_movies):\n",
        "    users, movies, ratings = sparse.find(sparse_matrix)\n",
        "    uniq_users = np.unique(users)\n",
        "    uniq_movies = np.unique(movies)\n",
        "    np.random.seed(15) \n",
        "    user = np.random.choice(uniq_users, no_of_users, replace = False)\n",
        "    movie = np.random.choice(uniq_movies, no_of_movies, replace = True)\n",
        "    mask = np.logical_and(np.isin(users, user), np.isin(movies, movie))\n",
        "    sparse_matrix = sparse.csr_matrix((ratings[mask], (users[mask], movies[mask])), \n",
        "                                                     shape = (max(user)+1, max(movie)+1))\n",
        "    return sparse_matrix"
      ],
      "execution_count": null,
      "outputs": []
    },
    {
      "cell_type": "markdown",
      "metadata": {
        "id": "EuEreN6JG3r3"
      },
      "source": [
        "**Sample Sparse Matrix for the Traning Data**"
      ]
    },
    {
      "cell_type": "code",
      "metadata": {
        "id": "PHPRmO1mS_7s"
      },
      "source": [
        "train_sample_sparse_matrix = get_sample_sparse_matrix(train_sparse_data, 400, 40)"
      ],
      "execution_count": null,
      "outputs": []
    },
    {
      "cell_type": "markdown",
      "metadata": {
        "id": "8X_cznGeG8C6"
      },
      "source": [
        "**Sample Sparse Matrix for the Test Data**"
      ]
    },
    {
      "cell_type": "code",
      "metadata": {
        "id": "_Gt99SHrTB6D"
      },
      "source": [
        "test_sparse_matrix_matrix = get_sample_sparse_matrix(test_sparse_data, 200, 20)"
      ],
      "execution_count": null,
      "outputs": []
    },
    {
      "cell_type": "markdown",
      "metadata": {
        "id": "E-allBhSHCp5"
      },
      "source": [
        "# A Generic Method to Generate Similar Featuires.\n",
        "\n",
        "This will generate below similar features:\n",
        "\n",
        "*   similar_user_rating1\n",
        "*   similar_user_rating2\n",
        "*   similar_user_rating3\n",
        "*   similar_user_rating4\n",
        "*   similar_user_rating5\n",
        "*   similar_movie_rating1\n",
        "*   similar_movie_rating2\n",
        "*   similar_movie_rating3\n",
        "*   similar_movie_rating4\n",
        "*   similar_movie_rating5\n",
        "\n",
        "\n",
        "\n",
        "\n",
        "\n",
        "\n",
        "\n",
        "\n",
        "\n"
      ]
    },
    {
      "cell_type": "code",
      "metadata": {
        "id": "enoS0kYZTbrZ"
      },
      "source": [
        "def create_new_similar_features(sample_sparse_matrix):\n",
        "    global_avg_rating = get_average_rating(sample_sparse_matrix, False)\n",
        "    global_avg_users = get_average_rating(sample_sparse_matrix, True)\n",
        "    global_avg_movies = get_average_rating(sample_sparse_matrix, False)\n",
        "    sample_train_users, sample_train_movies, sample_train_ratings = sparse.find(sample_sparse_matrix)\n",
        "    new_features_csv_file = open(\"new_features.csv\", mode = \"w\")\n",
        "    \n",
        "    for user, movie, rating in zip(sample_train_users, sample_train_movies, sample_train_ratings):\n",
        "        similar_arr = list()\n",
        "        similar_arr.append(user)\n",
        "        similar_arr.append(movie)\n",
        "        similar_arr.append(sample_sparse_matrix.sum()/sample_sparse_matrix.count_nonzero())\n",
        "        \n",
        "        similar_users = cosine_similarity(sample_sparse_matrix[user], sample_sparse_matrix).ravel()\n",
        "        indices = np.argsort(-similar_users)[1:]\n",
        "        ratings = sample_sparse_matrix[indices, movie].toarray().ravel()\n",
        "        top_similar_user_ratings = list(ratings[ratings != 0][:5])\n",
        "        top_similar_user_ratings.extend([global_avg_rating[movie]] * (5 - len(ratings)))\n",
        "        similar_arr.extend(top_similar_user_ratings)\n",
        "        \n",
        "        similar_movies = cosine_similarity(sample_sparse_matrix[:,movie].T, sample_sparse_matrix.T).ravel()\n",
        "        similar_movies_indices = np.argsort(-similar_movies)[1:]\n",
        "        similar_movies_ratings = sample_sparse_matrix[user, similar_movies_indices].toarray().ravel()\n",
        "        top_similar_movie_ratings = list(similar_movies_ratings[similar_movies_ratings != 0][:5])\n",
        "        top_similar_movie_ratings.extend([global_avg_users[user]] * (5-len(top_similar_movie_ratings)))\n",
        "        similar_arr.extend(top_similar_movie_ratings)\n",
        "        \n",
        "        similar_arr.append(global_avg_users[user])\n",
        "        similar_arr.append(global_avg_movies[movie])\n",
        "        similar_arr.append(rating)\n",
        "        \n",
        "        new_features_csv_file.write(\",\".join(map(str, similar_arr)))\n",
        "        new_features_csv_file.write(\"\\n\")\n",
        "        \n",
        "    new_features_csv_file.close()\n",
        "    new_features_df = pd.read_csv('new_features.csv', names = [\"user_id\", \"movie_id\", \"gloabl_average\", \"similar_user_rating1\", \n",
        "                                                               \"similar_user_rating2\", \"similar_user_rating3\", \n",
        "                                                               \"similar_user_rating4\", \"similar_user_rating5\", \n",
        "                                                               \"similar_movie_rating1\", \"similar_movie_rating2\", \n",
        "                                                               \"similar_movie_rating3\", \"similar_movie_rating4\", \n",
        "                                                               \"similar_movie_rating5\", \"user_average\", \n",
        "                                                               \"movie_average\", \"rating\"])\n",
        "    return new_features_df\n",
        "            "
      ],
      "execution_count": null,
      "outputs": []
    },
    {
      "cell_type": "markdown",
      "metadata": {
        "id": "EWiSFPizHyw1"
      },
      "source": [
        "**Generate Similar Features for the Training Data**"
      ]
    },
    {
      "cell_type": "code",
      "metadata": {
        "id": "Jep3NIENTodX"
      },
      "source": [
        "train_new_similar_features = create_new_similar_features(train_sample_sparse_matrix)"
      ],
      "execution_count": null,
      "outputs": []
    },
    {
      "cell_type": "code",
      "metadata": {
        "id": "QyNqTxtRZmvq",
        "outputId": "8186d884-ebec-4683-b0dd-40b68f432bca",
        "colab": {
          "base_uri": "https://localhost:8080/",
          "height": 222
        }
      },
      "source": [
        "train_new_similar_features = train_new_similar_features.fillna(0)\n",
        "train_new_similar_features.head()"
      ],
      "execution_count": null,
      "outputs": [
        {
          "output_type": "execute_result",
          "data": {
            "text/html": [
              "<div>\n",
              "<style scoped>\n",
              "    .dataframe tbody tr th:only-of-type {\n",
              "        vertical-align: middle;\n",
              "    }\n",
              "\n",
              "    .dataframe tbody tr th {\n",
              "        vertical-align: top;\n",
              "    }\n",
              "\n",
              "    .dataframe thead th {\n",
              "        text-align: right;\n",
              "    }\n",
              "</style>\n",
              "<table border=\"1\" class=\"dataframe\">\n",
              "  <thead>\n",
              "    <tr style=\"text-align: right;\">\n",
              "      <th></th>\n",
              "      <th>user_id</th>\n",
              "      <th>movie_id</th>\n",
              "      <th>gloabl_average</th>\n",
              "      <th>similar_user_rating1</th>\n",
              "      <th>similar_user_rating2</th>\n",
              "      <th>similar_user_rating3</th>\n",
              "      <th>similar_user_rating4</th>\n",
              "      <th>similar_user_rating5</th>\n",
              "      <th>similar_movie_rating1</th>\n",
              "      <th>similar_movie_rating2</th>\n",
              "      <th>similar_movie_rating3</th>\n",
              "      <th>similar_movie_rating4</th>\n",
              "      <th>similar_movie_rating5</th>\n",
              "      <th>user_average</th>\n",
              "      <th>movie_average</th>\n",
              "      <th>rating</th>\n",
              "    </tr>\n",
              "  </thead>\n",
              "  <tbody>\n",
              "    <tr>\n",
              "      <th>0</th>\n",
              "      <td>368756</td>\n",
              "      <td>13393</td>\n",
              "      <td>3.392157</td>\n",
              "      <td>4.0</td>\n",
              "      <td>4.0</td>\n",
              "      <td>4.0</td>\n",
              "      <td>4.0</td>\n",
              "      <td>4.0</td>\n",
              "      <td>4.0</td>\n",
              "      <td>4.0</td>\n",
              "      <td>4.0</td>\n",
              "      <td>0.0</td>\n",
              "      <td>0.0</td>\n",
              "      <td>0.0</td>\n",
              "      <td>0.0</td>\n",
              "      <td>0.0</td>\n",
              "    </tr>\n",
              "    <tr>\n",
              "      <th>1</th>\n",
              "      <td>2593137</td>\n",
              "      <td>13495</td>\n",
              "      <td>3.392157</td>\n",
              "      <td>4.0</td>\n",
              "      <td>4.0</td>\n",
              "      <td>4.0</td>\n",
              "      <td>4.0</td>\n",
              "      <td>4.0</td>\n",
              "      <td>4.0</td>\n",
              "      <td>4.0</td>\n",
              "      <td>4.0</td>\n",
              "      <td>0.0</td>\n",
              "      <td>0.0</td>\n",
              "      <td>0.0</td>\n",
              "      <td>0.0</td>\n",
              "      <td>0.0</td>\n",
              "    </tr>\n",
              "    <tr>\n",
              "      <th>2</th>\n",
              "      <td>96842</td>\n",
              "      <td>13602</td>\n",
              "      <td>3.392157</td>\n",
              "      <td>3.0</td>\n",
              "      <td>5.0</td>\n",
              "      <td>5.0</td>\n",
              "      <td>5.0</td>\n",
              "      <td>5.0</td>\n",
              "      <td>5.0</td>\n",
              "      <td>5.0</td>\n",
              "      <td>5.0</td>\n",
              "      <td>5.0</td>\n",
              "      <td>4.5</td>\n",
              "      <td>5.0</td>\n",
              "      <td>0.0</td>\n",
              "      <td>0.0</td>\n",
              "    </tr>\n",
              "    <tr>\n",
              "      <th>3</th>\n",
              "      <td>486048</td>\n",
              "      <td>13602</td>\n",
              "      <td>3.392157</td>\n",
              "      <td>3.0</td>\n",
              "      <td>5.0</td>\n",
              "      <td>5.0</td>\n",
              "      <td>3.0</td>\n",
              "      <td>3.0</td>\n",
              "      <td>3.0</td>\n",
              "      <td>3.0</td>\n",
              "      <td>3.0</td>\n",
              "      <td>3.0</td>\n",
              "      <td>4.5</td>\n",
              "      <td>3.0</td>\n",
              "      <td>0.0</td>\n",
              "      <td>0.0</td>\n",
              "    </tr>\n",
              "    <tr>\n",
              "      <th>4</th>\n",
              "      <td>940434</td>\n",
              "      <td>13602</td>\n",
              "      <td>3.392157</td>\n",
              "      <td>3.0</td>\n",
              "      <td>5.0</td>\n",
              "      <td>5.0</td>\n",
              "      <td>5.0</td>\n",
              "      <td>5.0</td>\n",
              "      <td>5.0</td>\n",
              "      <td>5.0</td>\n",
              "      <td>5.0</td>\n",
              "      <td>5.0</td>\n",
              "      <td>4.5</td>\n",
              "      <td>5.0</td>\n",
              "      <td>0.0</td>\n",
              "      <td>0.0</td>\n",
              "    </tr>\n",
              "  </tbody>\n",
              "</table>\n",
              "</div>"
            ],
            "text/plain": [
              "   user_id  movie_id  gloabl_average  ...  user_average  movie_average  rating\n",
              "0   368756     13393        3.392157  ...           0.0            0.0     0.0\n",
              "1  2593137     13495        3.392157  ...           0.0            0.0     0.0\n",
              "2    96842     13602        3.392157  ...           5.0            0.0     0.0\n",
              "3   486048     13602        3.392157  ...           3.0            0.0     0.0\n",
              "4   940434     13602        3.392157  ...           5.0            0.0     0.0\n",
              "\n",
              "[5 rows x 16 columns]"
            ]
          },
          "metadata": {
            "tags": []
          },
          "execution_count": 59
        }
      ]
    },
    {
      "cell_type": "markdown",
      "metadata": {
        "id": "zkwKfA2LH44x"
      },
      "source": [
        "**Generate Similar Features for the Test Data**"
      ]
    },
    {
      "cell_type": "code",
      "metadata": {
        "id": "K5gnOE9PTkUn"
      },
      "source": [
        "test_new_similar_features = create_new_similar_features(test_sparse_matrix_matrix)"
      ],
      "execution_count": null,
      "outputs": []
    },
    {
      "cell_type": "code",
      "metadata": {
        "id": "XTHdEkSNZ8_m",
        "outputId": "be927d16-abc8-4aef-dc82-3f9c8811638b",
        "colab": {
          "base_uri": "https://localhost:8080/",
          "height": 222
        }
      },
      "source": [
        "test_new_similar_features = test_new_similar_features.fillna(0)\n",
        "test_new_similar_features.head()"
      ],
      "execution_count": null,
      "outputs": [
        {
          "output_type": "execute_result",
          "data": {
            "text/html": [
              "<div>\n",
              "<style scoped>\n",
              "    .dataframe tbody tr th:only-of-type {\n",
              "        vertical-align: middle;\n",
              "    }\n",
              "\n",
              "    .dataframe tbody tr th {\n",
              "        vertical-align: top;\n",
              "    }\n",
              "\n",
              "    .dataframe thead th {\n",
              "        text-align: right;\n",
              "    }\n",
              "</style>\n",
              "<table border=\"1\" class=\"dataframe\">\n",
              "  <thead>\n",
              "    <tr style=\"text-align: right;\">\n",
              "      <th></th>\n",
              "      <th>user_id</th>\n",
              "      <th>movie_id</th>\n",
              "      <th>gloabl_average</th>\n",
              "      <th>similar_user_rating1</th>\n",
              "      <th>similar_user_rating2</th>\n",
              "      <th>similar_user_rating3</th>\n",
              "      <th>similar_user_rating4</th>\n",
              "      <th>similar_user_rating5</th>\n",
              "      <th>similar_movie_rating1</th>\n",
              "      <th>similar_movie_rating2</th>\n",
              "      <th>similar_movie_rating3</th>\n",
              "      <th>similar_movie_rating4</th>\n",
              "      <th>similar_movie_rating5</th>\n",
              "      <th>user_average</th>\n",
              "      <th>movie_average</th>\n",
              "      <th>rating</th>\n",
              "    </tr>\n",
              "  </thead>\n",
              "  <tbody>\n",
              "    <tr>\n",
              "      <th>0</th>\n",
              "      <td>218348</td>\n",
              "      <td>16977</td>\n",
              "      <td>3.393939</td>\n",
              "      <td>4</td>\n",
              "      <td>1.0</td>\n",
              "      <td>5.0</td>\n",
              "      <td>4.0</td>\n",
              "      <td>3.0</td>\n",
              "      <td>5.0</td>\n",
              "      <td>5.0</td>\n",
              "      <td>5.000000</td>\n",
              "      <td>5.000000</td>\n",
              "      <td>5.000000</td>\n",
              "      <td>5.000000</td>\n",
              "      <td>3.583333</td>\n",
              "      <td>5.0</td>\n",
              "    </tr>\n",
              "    <tr>\n",
              "      <th>1</th>\n",
              "      <td>482111</td>\n",
              "      <td>16977</td>\n",
              "      <td>3.393939</td>\n",
              "      <td>4</td>\n",
              "      <td>1.0</td>\n",
              "      <td>5.0</td>\n",
              "      <td>4.0</td>\n",
              "      <td>3.0</td>\n",
              "      <td>3.0</td>\n",
              "      <td>3.0</td>\n",
              "      <td>3.000000</td>\n",
              "      <td>3.000000</td>\n",
              "      <td>3.000000</td>\n",
              "      <td>3.000000</td>\n",
              "      <td>3.583333</td>\n",
              "      <td>3.0</td>\n",
              "    </tr>\n",
              "    <tr>\n",
              "      <th>2</th>\n",
              "      <td>770495</td>\n",
              "      <td>16977</td>\n",
              "      <td>3.393939</td>\n",
              "      <td>4</td>\n",
              "      <td>1.0</td>\n",
              "      <td>5.0</td>\n",
              "      <td>4.0</td>\n",
              "      <td>3.0</td>\n",
              "      <td>4.0</td>\n",
              "      <td>4.0</td>\n",
              "      <td>4.000000</td>\n",
              "      <td>4.000000</td>\n",
              "      <td>4.000000</td>\n",
              "      <td>4.000000</td>\n",
              "      <td>3.583333</td>\n",
              "      <td>4.0</td>\n",
              "    </tr>\n",
              "    <tr>\n",
              "      <th>3</th>\n",
              "      <td>1033930</td>\n",
              "      <td>16977</td>\n",
              "      <td>3.393939</td>\n",
              "      <td>2</td>\n",
              "      <td>1.0</td>\n",
              "      <td>3.0</td>\n",
              "      <td>4.0</td>\n",
              "      <td>4.0</td>\n",
              "      <td>3.0</td>\n",
              "      <td>2.0</td>\n",
              "      <td>2.666667</td>\n",
              "      <td>2.666667</td>\n",
              "      <td>2.666667</td>\n",
              "      <td>2.666667</td>\n",
              "      <td>3.583333</td>\n",
              "      <td>3.0</td>\n",
              "    </tr>\n",
              "    <tr>\n",
              "      <th>4</th>\n",
              "      <td>1301848</td>\n",
              "      <td>16977</td>\n",
              "      <td>3.393939</td>\n",
              "      <td>4</td>\n",
              "      <td>1.0</td>\n",
              "      <td>5.0</td>\n",
              "      <td>4.0</td>\n",
              "      <td>3.0</td>\n",
              "      <td>4.0</td>\n",
              "      <td>4.0</td>\n",
              "      <td>4.000000</td>\n",
              "      <td>4.000000</td>\n",
              "      <td>4.000000</td>\n",
              "      <td>4.000000</td>\n",
              "      <td>3.583333</td>\n",
              "      <td>4.0</td>\n",
              "    </tr>\n",
              "  </tbody>\n",
              "</table>\n",
              "</div>"
            ],
            "text/plain": [
              "   user_id  movie_id  gloabl_average  ...  user_average  movie_average  rating\n",
              "0   218348     16977        3.393939  ...      5.000000       3.583333     5.0\n",
              "1   482111     16977        3.393939  ...      3.000000       3.583333     3.0\n",
              "2   770495     16977        3.393939  ...      4.000000       3.583333     4.0\n",
              "3  1033930     16977        3.393939  ...      2.666667       3.583333     3.0\n",
              "4  1301848     16977        3.393939  ...      4.000000       3.583333     4.0\n",
              "\n",
              "[5 rows x 16 columns]"
            ]
          },
          "metadata": {
            "tags": []
          },
          "execution_count": 61
        }
      ]
    },
    {
      "cell_type": "markdown",
      "metadata": {
        "id": "32GFOSEhIB0D"
      },
      "source": [
        "# Building Machine Learning Model"
      ]
    },
    {
      "cell_type": "code",
      "metadata": {
        "id": "W5QZ7iO8bVU0"
      },
      "source": [
        "x_train = train_new_similar_features.drop([\"user_id\", \"movie_id\", \"rating\"], axis = 1)\n",
        "\n",
        "x_test = test_new_similar_features.drop([\"user_id\", \"movie_id\", \"rating\"], axis = 1)\n",
        "\n",
        "y_train = train_new_similar_features[\"rating\"]\n",
        "\n",
        "y_test = test_new_similar_features[\"rating\"]"
      ],
      "execution_count": null,
      "outputs": []
    },
    {
      "cell_type": "code",
      "metadata": {
        "id": "4YpR4GntcOPk"
      },
      "source": [
        "def error_metrics(y_true, y_pred):\n",
        "    rmse = np.sqrt(mean_squared_error(y_true, y_pred))\n",
        "    return rmse"
      ],
      "execution_count": null,
      "outputs": []
    },
    {
      "cell_type": "code",
      "metadata": {
        "id": "v_C6UlIgc6b5",
        "outputId": "8acee847-ebab-4ebe-e85e-fed8be53dd93",
        "colab": {
          "base_uri": "https://localhost:8080/",
          "height": 176
        }
      },
      "source": [
        "clf = xgb.XGBRegressor(n_estimators = 100, silent = False, n_jobs  = 10)\n",
        "clf.fit(x_train, y_train)"
      ],
      "execution_count": null,
      "outputs": [
        {
          "output_type": "stream",
          "text": [
            "[15:48:41] WARNING: /workspace/src/objective/regression_obj.cu:152: reg:linear is now deprecated in favor of reg:squarederror.\n"
          ],
          "name": "stdout"
        },
        {
          "output_type": "execute_result",
          "data": {
            "text/plain": [
              "XGBRegressor(base_score=0.5, booster='gbtree', colsample_bylevel=1,\n",
              "             colsample_bynode=1, colsample_bytree=1, gamma=0,\n",
              "             importance_type='gain', learning_rate=0.1, max_delta_step=0,\n",
              "             max_depth=3, min_child_weight=1, missing=None, n_estimators=100,\n",
              "             n_jobs=10, nthread=None, objective='reg:linear', random_state=0,\n",
              "             reg_alpha=0, reg_lambda=1, scale_pos_weight=1, seed=None,\n",
              "             silent=False, subsample=1, verbosity=1)"
            ]
          },
          "metadata": {
            "tags": []
          },
          "execution_count": 64
        }
      ]
    },
    {
      "cell_type": "code",
      "metadata": {
        "id": "LDos1-FIhbwX"
      },
      "source": [
        "y_pred_test = clf.predict(x_test)"
      ],
      "execution_count": null,
      "outputs": []
    },
    {
      "cell_type": "code",
      "metadata": {
        "id": "brDIFkS7e4UB",
        "outputId": "10207816-52df-4d6f-dce2-dbfc2bcb0cac",
        "colab": {
          "base_uri": "https://localhost:8080/",
          "height": 35
        }
      },
      "source": [
        "rmse_test = error_metrics(y_test, y_pred_test)\n",
        "print(\"RMSE = {}\".format(rmse_test))"
      ],
      "execution_count": null,
      "outputs": [
        {
          "output_type": "stream",
          "text": [
            "RMSE = 0.40467585617965873\n"
          ],
          "name": "stdout"
        }
      ]
    },
    {
      "cell_type": "markdown",
      "metadata": {
        "id": "OOxXdPIgIKur"
      },
      "source": [
        "# Plot Feature Importance\n",
        "\n",
        "Feature importance is an important technique that selects a score to input features based on how valuable they are at predicting a target variable."
      ]
    },
    {
      "cell_type": "code",
      "metadata": {
        "id": "7OS3UuA5fUSO"
      },
      "source": [
        "def plot_importance(model, clf):\n",
        "    fig = plt.figure(figsize = (8, 6))\n",
        "    ax = fig.add_axes([0,0,1,1])\n",
        "    model.plot_importance(clf, ax = ax, height = 0.3)\n",
        "    plt.xlabel(\"F Score\", fontsize = 20)\n",
        "    plt.ylabel(\"Features\", fontsize = 20)\n",
        "    plt.title(\"Feature Importance\", fontsize = 20)\n",
        "    plt.tick_params(labelsize = 15)\n",
        "    \n",
        "    plt.show()"
      ],
      "execution_count": null,
      "outputs": []
    },
    {
      "cell_type": "code",
      "metadata": {
        "id": "m3vViNLjfWkS",
        "outputId": "989543cd-a64a-4010-aa1a-aff7157eb761",
        "colab": {
          "base_uri": "https://localhost:8080/",
          "height": 529
        }
      },
      "source": [
        " plot_importance(xgb, clf)"
      ],
      "execution_count": null,
      "outputs": [
        {
          "output_type": "display_data",
          "data": {
            "image/png": "[encoded data removed]",
            "text/plain": [
              "<Figure size 576x432 with 1 Axes>"
            ]
          },
          "metadata": {
            "tags": [],
            "needs_background": "light"
          }
        }
      ]
    }
  ]
}