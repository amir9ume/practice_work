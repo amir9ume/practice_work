{
 "cells": [
  {
   "cell_type": "code",
   "execution_count": 23,
   "id": "b8530cad",
   "metadata": {},
   "outputs": [],
   "source": [
    "#the training code for recommender systems has been taken from Tutorial adapted from \n",
    "# content originally created for IVADO's Workshop on Recommender Systems, August 2019.\n",
    "#credits Dora Jambor, David Beiber, Laurent Charlin\n",
    "\n",
    "import pandas as pd\n",
    "import numpy as np\n",
    "\n",
    "df= pd.read_csv('./ghazal/df_matrix')"
   ]
  },
  {
   "cell_type": "code",
   "execution_count": 14,
   "id": "1c8231b4",
   "metadata": {},
   "outputs": [
    {
     "name": "stdout",
     "output_type": "stream",
     "text": [
      "                 0           1           2                 3   \\\n",
      "author  ahmad-faraz  meer-anees  nida-fazli  akbar-allahabadi   \n",
      "1                 3           1           3                 0   \n",
      "2                 2           3           0                 2   \n",
      "3                 0           0           3                 1   \n",
      "4                 2           2           2                 3   \n",
      "5                 2           2           0                 3   \n",
      "6                 1           0           3                 1   \n",
      "\n",
      "                      4               5                   6                7   \\\n",
      "author  jigar-moradabadi  nazm-tabatabai  wali-mohammad-wali  sahir-ludhianvi   \n",
      "1                      0               3                   1                0   \n",
      "2                      3               1                   2                2   \n",
      "3                      0               2                   1                3   \n",
      "4                      0               1                   0                2   \n",
      "5                      2               0                   2                3   \n",
      "6                      0               2                   2                1   \n",
      "\n",
      "                   8           9   ...              19            20  \\\n",
      "author  naseer-turabi  kaifi-azmi  ...  waseem-barelvi  mirza-ghalib   \n",
      "1                   3           0  ...               0             3   \n",
      "2                   2           0  ...               2             2   \n",
      "3                   2           3  ...               1             3   \n",
      "4                   2           2  ...               2             0   \n",
      "5                   3           0  ...               0             1   \n",
      "6                   1           2  ...               2             1   \n",
      "\n",
      "                        21              22                 23           24  \\\n",
      "author  bahadur-shah-zafar  meer-taqi-meer  jaan-nisar-akhtar  habib-jalib   \n",
      "1                        2               0                  2            0   \n",
      "2                        2               2                  2            1   \n",
      "3                        3               0                  1            3   \n",
      "4                        0               2                  1            1   \n",
      "5                        1               0                  2            1   \n",
      "6                        3               1                  2            0   \n",
      "\n",
      "                  25              26            27             28  \n",
      "author  javed-akhtar  parveen-shakir  mohsin-naqvi  ameer-khusrau  \n",
      "1                  2               1             0              1  \n",
      "2                  0               0             1              2  \n",
      "3                  3               2             3              1  \n",
      "4                  0               2             3              3  \n",
      "5                  0               0             2              3  \n",
      "6                  1               3             2              2  \n",
      "\n",
      "[7 rows x 29 columns]\n"
     ]
    }
   ],
   "source": [
    "#random filling user data for now.\n",
    "#but lets say we collect this data from a google sheet every few days\n",
    "# or through a google forms poll\n",
    "df_ratings=df.copy()\n",
    "for i in range(1,df.shape[1]):\n",
    "    df_ratings[str(i)]= np.random.randint(0, 4, df.shape[0])\n",
    "\n",
    "df_ratings= df_ratings.T\n",
    "print(df_ratings)\n",
    "df_ratings.to_csv('./ghazal/random_user_item_data_test',index=False)"
   ]
  },
  {
   "cell_type": "code",
   "execution_count": 15,
   "id": "69951593",
   "metadata": {},
   "outputs": [
    {
     "name": "stdout",
     "output_type": "stream",
     "text": [
      "(6, 29)\n",
      "<class 'numpy.int64'>\n"
     ]
    }
   ],
   "source": [
    "df_ratings=pd.read_csv('./ghazal/random_user_item_data_test')\n",
    "\n",
    "\n",
    "df_ratings.columns = df_ratings.iloc[0]\n",
    "df_ratings = df_ratings[1:]\n",
    "a= df_ratings.to_numpy()\n",
    "\n",
    "print(a.shape)\n",
    "a= a.astype(int)\n",
    "print(type(a[0][0]))"
   ]
  },
  {
   "cell_type": "code",
   "execution_count": 16,
   "id": "84b2ae29",
   "metadata": {},
   "outputs": [
    {
     "name": "stdout",
     "output_type": "stream",
     "text": [
      "(29, 6)\n"
     ]
    }
   ],
   "source": [
    "content_info_df= df.copy()\n",
    "del content_info_df['author']\n",
    "\n",
    "content_info= content_info_df.to_numpy()\n",
    "print(content_info.shape)"
   ]
  },
  {
   "cell_type": "code",
   "execution_count": 17,
   "id": "12e13495",
   "metadata": {},
   "outputs": [],
   "source": [
    "\n",
    "def learn_to_recommend(data,content_features, features=10, lr=0.0002, epochs=101, weigth_decay=0.02, stopping=0.001):\n",
    "    \"\"\"\n",
    "    Args:\n",
    "       data: every evaluation\n",
    "       features: number of latent variables\n",
    "       lr: learning rate for gradient descent\n",
    "       epochs: number of iterations or maximum loops to perform\n",
    "       weigth_decay: L2 regularization to predict rattings different of 0\n",
    "       stopping: scalar associated with the stopping criterion\n",
    "      \n",
    "     Returns:\n",
    "       P: latent matrix of users\n",
    "       Q: latent matrix of items\n",
    "       loss_train: vector of the different values of the loss function after each iteration on the train\n",
    "       loss_valid: vector of the different values of the loss function after each iteration not on valid\n",
    "       \"\"\"\n",
    "     \n",
    "    train = data\n",
    "    nb_users, nb_items = len(train), len(train[0])\n",
    "\n",
    "    loss_train = []\n",
    "\n",
    "    P = np.random.rand(nb_users, features) * 0.1\n",
    "    Q =  content_features #np.random.rand(nb_items, features) * 0.1 +\n",
    "    print('shape of Q inside learning to recommend: ', Q.shape)\n",
    "    print('shape of content features: ', content_features.shape)\n",
    "    for e in range(epochs):        \n",
    "        for u in range(nb_users):\n",
    "            for i in range(nb_items):\n",
    "\n",
    "                # Answer 4.1: Code the condition\n",
    "                if train[u][i] > 0:\n",
    "                    error_ui = train[u][i] - prediction(P, Q, u, i)\n",
    "                    P, Q = sgd(error_ui, P, Q, u, i, features, lr, weigth_decay)\n",
    "                               \n",
    "       \n",
    "        loss_train.append(loss(train, P, Q))\n",
    "        \n",
    "        \n",
    "        if e % 10 == 0:\n",
    "            print('Epoch : ', \"{:3.0f}\".format(e+1), ' | Train :', \"{:3.3f}\".format(loss_train[-1]))\n",
    "            \n",
    "        \n",
    "    return P, Q, loss_train"
   ]
  },
  {
   "cell_type": "code",
   "execution_count": 18,
   "id": "48409868",
   "metadata": {},
   "outputs": [],
   "source": [
    "\n",
    "def prediction(P, Q, u, i):\n",
    "    \"\"\"\n",
    "    Args:\n",
    "        P: user matrix\n",
    "        Q: matrix of items\n",
    "        Q is item matrix here\n",
    "        u: index associated with user u\n",
    "        i: index associated with item i\n",
    "    Returns:\n",
    "        pred: the predicted evaluation of the user u for the item i\n",
    "    \"\"\"\n",
    "    \n",
    "    return np.dot(P[u,:], Q[i,:])\n",
    "\n",
    "def loss(data, P, Q):\n",
    "    \"\"\"\n",
    "    Args:\n",
    "       data: ratings\n",
    "       P: matrix of users\n",
    "       Q: matrix of items   \n",
    "    Returns:\n",
    "        MSE: observed mean of squared errors \n",
    "    \"\"\"\n",
    "    errors_sum, nb_evaluations = 0., 0\n",
    "    nb_users, nb_items = len(data), len(data[0])\n",
    "\n",
    "    for u in range(nb_users):\n",
    "        for i in range(nb_items):\n",
    "        \n",
    "            # Answer 5.2:\n",
    "            if data[u][i] > 0:\n",
    "                errors_sum += pow(data[u][i] - prediction(P, Q, u, i), 2)\n",
    "                nb_evaluations += 1\n",
    "                \n",
    "    return errors_sum / nb_evaluations"
   ]
  },
  {
   "cell_type": "code",
   "execution_count": 19,
   "id": "5cfbe721",
   "metadata": {},
   "outputs": [],
   "source": [
    "def sgd(error, P, Q, id_user, id_item, features, lr, weigth_decay):\n",
    "    \"\"\"\n",
    "    Args:\n",
    "        error: difference between observed and predicted evaluation (in that order)\n",
    "        P: matrix of users\n",
    "        Q: matrix of items\n",
    "        id_user: id_user\n",
    "        id_item: id_item\n",
    "        features: number of latent variables\n",
    "        lr: learning for the descent of the gradient\n",
    "        weigth_decay: scalar multiplier controlling the influence of the regularization term\n",
    "       \n",
    "     Returns:\n",
    "        P: the new estimate for P\n",
    "        Q: the new estimate for Q\n",
    "        Q is item matrix here\n",
    "     \"\"\"    \n",
    "    \n",
    "    \n",
    "   \n",
    "    for f in range(features):\n",
    "        P[id_user, f] = P[id_user, f] + lr * (2 * Q[id_item, f] * error - 2 * weigth_decay * P[id_user, f])\n",
    "        Q[id_item, f] = Q[id_item, f] + lr * (2 * P[id_user, f] * error - 2 * weigth_decay * Q[id_item, f])\n",
    "      \n",
    "    return P, Q\n"
   ]
  },
  {
   "cell_type": "code",
   "execution_count": 20,
   "id": "711b9b12",
   "metadata": {},
   "outputs": [
    {
     "name": "stdout",
     "output_type": "stream",
     "text": [
      "shape of Q inside learning to recommend:  (29, 6)\n",
      "shape of content features:  (29, 6)\n",
      "Epoch :    1  | Train : 4.143\n",
      "Epoch :   11  | Train : 0.454\n",
      "Epoch :   21  | Train : 0.390\n",
      "Epoch :   31  | Train : 0.257\n",
      "Epoch :   41  | Train : 0.127\n",
      "Epoch :   51  | Train : 0.055\n",
      "Epoch :   61  | Train : 0.025\n",
      "Epoch :   71  | Train : 0.014\n",
      "Epoch :   81  | Train : 0.009\n",
      "Epoch :   91  | Train : 0.007\n",
      "Epoch :  101  | Train : 0.006\n"
     ]
    }
   ],
   "source": [
    "# setting features as 6, that is k=6. lets imagine that dimension\n",
    "# of latent vector works fine , as we also had 6 dim topics in our content\n",
    "features = 6\n",
    "lr = 0.01\n",
    "epochs = 101\n",
    "weigth_decay = 0.02\n",
    "stopping = 0.001\n",
    "train=a\n",
    "P, Q, loss_train = learn_to_recommend(train,content_info, features, lr, epochs, weigth_decay, stopping)"
   ]
  },
  {
   "cell_type": "code",
   "execution_count": 21,
   "id": "bc2374b6",
   "metadata": {},
   "outputs": [
    {
     "name": "stdout",
     "output_type": "stream",
     "text": [
      "User matrix shape:  (6, 6)\n",
      "Item matrix shape:  (29, 6)\n"
     ]
    }
   ],
   "source": [
    "print('User matrix shape: ',P.shape)\n",
    "print('Item matrix shape: ',Q.shape)"
   ]
  },
  {
   "cell_type": "code",
   "execution_count": 22,
   "id": "7da163a8",
   "metadata": {},
   "outputs": [
    {
     "name": "stdout",
     "output_type": "stream",
     "text": [
      "['sahir-ludhianvi', 'allama-iqbal', 'nida-fazli']\n"
     ]
    }
   ],
   "source": [
    "#lets say a new user u comes. \n",
    "#we can assume asking choices on some of the items\n",
    "# then model this new user to some closest user we already have \n",
    "#and use that to recommend\n",
    "\n",
    "#lets say we know he likes these 3 items bsaed on a question prompt\n",
    "new_user=np.zeros((29,1))\n",
    "new_user[2]=1\n",
    "new_user[8]=1\n",
    "new_user[12]=1\n",
    "\n",
    "\n",
    "def new_user_most_similar(new_user,r):\n",
    "    scores= np.dot(r,new_user).reshape(r.shape[0])\n",
    "    \n",
    "    indices= scores.argsort()[-1:][::-1]\n",
    "    return indices\n",
    "sim_user_index=new_user_most_similar(new_user,a)\n",
    "\n",
    "\n",
    "#get score with all items and return highest 3 indices\n",
    "def get_top_indices(Q,sim_inx):\n",
    "    \n",
    "    scores= np.dot(P[sim_inx],Q.T).reshape(Q.shape[0])\n",
    "    indices= scores.argsort()[-3:][::-1]\n",
    "    return indices\n",
    "\n",
    "def get_top_items(idxs,df):\n",
    "    items=[]\n",
    "    for idx in idxs:\n",
    "        items.append(df.iloc[idx][0])\n",
    "    return items\n",
    "\n",
    "indices=get_top_indices(Q,sim_user_index)\n",
    "items=get_top_items(indices,df)\n",
    "print(items)"
   ]
  },
  {
   "cell_type": "code",
   "execution_count": 39,
   "id": "13980fc1",
   "metadata": {},
   "outputs": [
    {
     "name": "stdout",
     "output_type": "stream",
     "text": [
      "[0. 1. 0. 1. 0. 0. 0. 0. 0. 0. 0. 0. 0. 0. 0. 0. 0. 0. 0. 0. 0. 0. 0. 0.\n",
      " 0. 0. 0. 0. 0.]\n"
     ]
    }
   ],
   "source": [
    "#keep generating new users.\n",
    "new_user=np.zeros((29,1))\n",
    "choose=np.random.randint(0, 4,5)\n",
    "for c in choose:\n",
    "    new_user[c]=1\n",
    "print(new_user.reshape(new_user.shape[0]))    "
   ]
  },
  {
   "cell_type": "code",
   "execution_count": null,
   "id": "a2e34e68",
   "metadata": {},
   "outputs": [],
   "source": []
  },
  {
   "cell_type": "code",
   "execution_count": null,
   "id": "c1eb6ad6",
   "metadata": {},
   "outputs": [],
   "source": []
  }
 ],
 "metadata": {
  "kernelspec": {
   "display_name": "Python 3",
   "language": "python",
   "name": "python3"
  },
  "language_info": {
   "codemirror_mode": {
    "name": "ipython",
    "version": 3
   },
   "file_extension": ".py",
   "mimetype": "text/x-python",
   "name": "python",
   "nbconvert_exporter": "python",
   "pygments_lexer": "ipython3",
   "version": "3.9.4"
  }
 },
 "nbformat": 4,
 "nbformat_minor": 5
}
