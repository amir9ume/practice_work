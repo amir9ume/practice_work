{
 "cells": [
  {
   "cell_type": "code",
   "execution_count": null,
   "metadata": {},
   "outputs": [],
   "source": [
    "#load trained model and wordlist\n",
    "tmp_fname=\"./nips19_vectors/wordlist_nips19_lda\"\n",
    "lda=LdaModel.load('./nips19_vectors/model_lda_nips19')\n",
    "id2word = corpora.Dictionary.load_from_text(\"./nips19_vectors/wordlist_nips19_lda\")\n",
    "\n",
    "\n",
    "#dd=0\n",
    "num_topics=25\n",
    "#data=[]\n",
    "reviewer_data={}\n",
    "for anon_rev_id in archive_papers:\n",
    "    if anon_rev_id not in bad_reviewers:\n",
    "        \n",
    "        src= archive_papers[anon_rev_id]['text']\n",
    "        z= [ aa.split(' ') for aa in src]\n",
    "        x= [j for sub in z for j in sub]\n",
    "   \n",
    "        token_and_freq= id2word.doc2bow(x)    \n",
    "        s=0\n",
    "        s=float(s)\n",
    "        doc_topics= lda.get_document_topics( token_and_freq, per_word_topics = False) \n",
    "        for dc in doc_topics:\n",
    "            s+=dc[1]\n",
    "        print('sum of prob: ', s)\n",
    "        \n",
    "        #make vector utility from before\n",
    "        v= utilities.make_vector_from_topic_distribution(doc_topics,num_topics)\n",
    "        print(len(v))\n",
    "      \n",
    "        reviewer_data[anon_rev_id]= v        \n",
    "\n",
    "\n",
    "df=pd.DataFrame.from_dict(reviewer_data)\n",
    "df= df.T\n",
    "print(df.head(5))\n",
    "df.to_csv('./nips19_vectors2/paper_lda_vectors',index=None)"
   ]
  }
 ],
 "metadata": {
  "kernelspec": {
   "display_name": "Python 3",
   "language": "python",
   "name": "python3"
  },
  "language_info": {
   "codemirror_mode": {
    "name": "ipython",
    "version": 3
   },
   "file_extension": ".py",
   "mimetype": "text/x-python",
   "name": "python",
   "nbconvert_exporter": "python",
   "pygments_lexer": "ipython3",
   "version": "3.7.1"
  }
 },
 "nbformat": 4,
 "nbformat_minor": 2
}
